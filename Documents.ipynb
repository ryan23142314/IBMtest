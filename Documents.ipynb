{
 "cells": [
  {
   "cell_type": "markdown",
   "metadata": {},
   "source": [
    "## This Notebook Will be Used for the Capstone Project"
   ]
  },
  {
   "cell_type": "code",
   "execution_count": 57,
   "metadata": {},
   "outputs": [],
   "source": [
    "import pandas as pd\n",
    "import numpy as np\n"
   ]
  },
  {
   "cell_type": "code",
   "execution_count": 58,
   "metadata": {},
   "outputs": [
    {
     "name": "stdout",
     "output_type": "stream",
     "text": [
      "Hello Capstone Project Course!\n"
     ]
    }
   ],
   "source": [
    "print(\"Hello Capstone Project Course!\")"
   ]
  },
  {
   "cell_type": "code",
   "execution_count": 59,
   "metadata": {},
   "outputs": [
    {
     "name": "stdout",
     "output_type": "stream",
     "text": [
      "SEVERITYCODE        int64\n",
      "X                 float64\n",
      "Y                 float64\n",
      "OBJECTID            int64\n",
      "INCKEY              int64\n",
      "COLDETKEY           int64\n",
      "REPORTNO           object\n",
      "STATUS             object\n",
      "ADDRTYPE           object\n",
      "INTKEY            float64\n",
      "LOCATION           object\n",
      "EXCEPTRSNCODE      object\n",
      "EXCEPTRSNDESC      object\n",
      "SEVERITYCODE.1      int64\n",
      "SEVERITYDESC       object\n",
      "COLLISIONTYPE      object\n",
      "PERSONCOUNT         int64\n",
      "PEDCOUNT            int64\n",
      "PEDCYLCOUNT         int64\n",
      "VEHCOUNT            int64\n",
      "INCDATE            object\n",
      "INCDTTM            object\n",
      "JUNCTIONTYPE       object\n",
      "SDOT_COLCODE        int64\n",
      "SDOT_COLDESC       object\n",
      "INATTENTIONIND     object\n",
      "UNDERINFL          object\n",
      "WEATHER            object\n",
      "ROADCOND           object\n",
      "LIGHTCOND          object\n",
      "PEDROWNOTGRNT      object\n",
      "SDOTCOLNUM        float64\n",
      "SPEEDING           object\n",
      "ST_COLCODE         object\n",
      "ST_COLDESC         object\n",
      "SEGLANEKEY          int64\n",
      "CROSSWALKKEY        int64\n",
      "HITPARKEDCAR       object\n",
      "dtype: object\n"
     ]
    }
   ],
   "source": [
    "data = pd.read_csv(r\"C:\\Users\\ryana\\Downloads\\Data-Collisions.csv\") \n",
    "dataTypeSeries = data.dtypes\n",
    "\n",
    "print(dataTypeSeries)"
   ]
  },
  {
   "cell_type": "code",
   "execution_count": 60,
   "metadata": {},
   "outputs": [
    {
     "name": "stdout",
     "output_type": "stream",
     "text": [
      "        SEVERITYCODE COLLISIONTYPE  PERSONCOUNT  VEHCOUNT  \\\n",
      "0                  2        Angles            2         2   \n",
      "1                  1     Sideswipe            2         2   \n",
      "2                  1    Parked Car            4         3   \n",
      "3                  1         Other            3         3   \n",
      "4                  2        Angles            2         2   \n",
      "...              ...           ...          ...       ...   \n",
      "194668             2       Head On            3         2   \n",
      "194669             1    Rear Ended            2         2   \n",
      "194670             2     Left Turn            3         2   \n",
      "194671             2        Cycles            2         1   \n",
      "194672             1    Rear Ended            2         2   \n",
      "\n",
      "                                   JUNCTIONTYPE   WEATHER ROADCOND  \\\n",
      "0        At Intersection (intersection related)  Overcast      Wet   \n",
      "1       Mid-Block (not related to intersection)   Raining      Wet   \n",
      "2       Mid-Block (not related to intersection)  Overcast      Dry   \n",
      "3       Mid-Block (not related to intersection)     Clear      Dry   \n",
      "4        At Intersection (intersection related)   Raining      Wet   \n",
      "...                                         ...       ...      ...   \n",
      "194668  Mid-Block (not related to intersection)     Clear      Dry   \n",
      "194669  Mid-Block (not related to intersection)   Raining      Wet   \n",
      "194670   At Intersection (intersection related)     Clear      Dry   \n",
      "194671   At Intersection (intersection related)     Clear      Dry   \n",
      "194672  Mid-Block (not related to intersection)     Clear      Wet   \n",
      "\n",
      "                      LIGHTCOND  \n",
      "0                      Daylight  \n",
      "1       Dark - Street Lights On  \n",
      "2                      Daylight  \n",
      "3                      Daylight  \n",
      "4                      Daylight  \n",
      "...                         ...  \n",
      "194668                 Daylight  \n",
      "194669                 Daylight  \n",
      "194670                 Daylight  \n",
      "194671                     Dusk  \n",
      "194672                 Daylight  \n",
      "\n",
      "[194673 rows x 8 columns]\n"
     ]
    }
   ],
   "source": [
    "#Keep only Certain Rows\n",
    "data = data.iloc[:, [0, 15, 16, 19,22, 27, 28, 29]]\n",
    "print(data)"
   ]
  },
  {
   "cell_type": "code",
   "execution_count": 71,
   "metadata": {},
   "outputs": [
    {
     "name": "stdout",
     "output_type": "stream",
     "text": [
      "SEVERITYCODE     0\n",
      "COLLISIONTYPE    0\n",
      "PERSONCOUNT      0\n",
      "VEHCOUNT         0\n",
      "JUNCTIONTYPE     0\n",
      "WEATHER          0\n",
      "ROADCOND         0\n",
      "LIGHTCOND        0\n",
      "SEVRITYCODE      0\n",
      "dtype: int64\n"
     ]
    },
    {
     "data": {
      "text/html": [
       "<div>\n",
       "<style scoped>\n",
       "    .dataframe tbody tr th:only-of-type {\n",
       "        vertical-align: middle;\n",
       "    }\n",
       "\n",
       "    .dataframe tbody tr th {\n",
       "        vertical-align: top;\n",
       "    }\n",
       "\n",
       "    .dataframe thead th {\n",
       "        text-align: right;\n",
       "    }\n",
       "</style>\n",
       "<table border=\"1\" class=\"dataframe\">\n",
       "  <thead>\n",
       "    <tr style=\"text-align: right;\">\n",
       "      <th></th>\n",
       "      <th>SEVERITYCODE</th>\n",
       "      <th>COLLISIONTYPE</th>\n",
       "      <th>PERSONCOUNT</th>\n",
       "      <th>VEHCOUNT</th>\n",
       "      <th>JUNCTIONTYPE</th>\n",
       "      <th>WEATHER</th>\n",
       "      <th>ROADCOND</th>\n",
       "      <th>LIGHTCOND</th>\n",
       "      <th>SEVRITYCODE</th>\n",
       "    </tr>\n",
       "  </thead>\n",
       "  <tbody>\n",
       "    <tr>\n",
       "      <td>0</td>\n",
       "      <td>2</td>\n",
       "      <td>1</td>\n",
       "      <td>2</td>\n",
       "      <td>2</td>\n",
       "      <td>2</td>\n",
       "      <td>5</td>\n",
       "      <td>9</td>\n",
       "      <td>6</td>\n",
       "      <td>2</td>\n",
       "    </tr>\n",
       "    <tr>\n",
       "      <td>1</td>\n",
       "      <td>1</td>\n",
       "      <td>10</td>\n",
       "      <td>2</td>\n",
       "      <td>2</td>\n",
       "      <td>5</td>\n",
       "      <td>7</td>\n",
       "      <td>9</td>\n",
       "      <td>3</td>\n",
       "      <td>1</td>\n",
       "    </tr>\n",
       "    <tr>\n",
       "      <td>2</td>\n",
       "      <td>1</td>\n",
       "      <td>6</td>\n",
       "      <td>4</td>\n",
       "      <td>3</td>\n",
       "      <td>5</td>\n",
       "      <td>5</td>\n",
       "      <td>1</td>\n",
       "      <td>6</td>\n",
       "      <td>1</td>\n",
       "    </tr>\n",
       "    <tr>\n",
       "      <td>3</td>\n",
       "      <td>1</td>\n",
       "      <td>5</td>\n",
       "      <td>3</td>\n",
       "      <td>3</td>\n",
       "      <td>5</td>\n",
       "      <td>2</td>\n",
       "      <td>1</td>\n",
       "      <td>6</td>\n",
       "      <td>1</td>\n",
       "    </tr>\n",
       "    <tr>\n",
       "      <td>4</td>\n",
       "      <td>2</td>\n",
       "      <td>1</td>\n",
       "      <td>2</td>\n",
       "      <td>2</td>\n",
       "      <td>2</td>\n",
       "      <td>7</td>\n",
       "      <td>9</td>\n",
       "      <td>6</td>\n",
       "      <td>2</td>\n",
       "    </tr>\n",
       "  </tbody>\n",
       "</table>\n",
       "</div>"
      ],
      "text/plain": [
       "   SEVERITYCODE  COLLISIONTYPE  PERSONCOUNT  VEHCOUNT  JUNCTIONTYPE  WEATHER  \\\n",
       "0             2              1            2         2             2        5   \n",
       "1             1             10            2         2             5        7   \n",
       "2             1              6            4         3             5        5   \n",
       "3             1              5            3         3             5        2   \n",
       "4             2              1            2         2             2        7   \n",
       "\n",
       "   ROADCOND  LIGHTCOND SEVRITYCODE  \n",
       "0         9          6           2  \n",
       "1         9          3           1  \n",
       "2         1          6           1  \n",
       "3         1          6           1  \n",
       "4         9          6           2  "
      ]
     },
     "execution_count": 71,
     "metadata": {},
     "output_type": "execute_result"
    }
   ],
   "source": [
    "print(data.isnull().sum())\n",
    "data[\"WEATHER\"] = data[\"WEATHER\"].astype('category')\n",
    "data[\"WEATHER\"] = data[\"WEATHER\"].cat.codes\n",
    "data['COLLISIONTYPE'] = data['COLLISIONTYPE'].astype('category')\n",
    "data['COLLISIONTYPE'] = data['COLLISIONTYPE'].cat.codes\n",
    "data['JUNCTIONTYPE'] = data['JUNCTIONTYPE'].astype('category')\n",
    "data['JUNCTIONTYPE'] = data['JUNCTIONTYPE'].cat.codes\n",
    "data['ROADCOND'] = data['ROADCOND'].astype('category')\n",
    "data['ROADCOND'] = data['ROADCOND'].cat.codes\n",
    "data['LIGHTCOND'] = data['LIGHTCOND'].astype('category')\n",
    "data['LIGHTCOND'] = data['LIGHTCOND'].cat.codes\n",
    "data.head()"
   ]
  },
  {
   "cell_type": "code",
   "execution_count": 62,
   "metadata": {},
   "outputs": [],
   "source": [
    "X = data[['COLLISIONTYPE', 'PERSONCOUNT', 'VEHCOUNT', 'JUNCTIONTYPE', 'WEATHER', 'ROADCOND', 'LIGHTCOND']].values\n",
    "Y = data['SEVERITYCODE']"
   ]
  },
  {
   "cell_type": "code",
   "execution_count": 63,
   "metadata": {},
   "outputs": [],
   "source": [
    "from sklearn.model_selection import train_test_split\n",
    "X_trainset, X_testset, y_trainset, y_testset = train_test_split(X, Y, test_size=0.3, random_state=3)"
   ]
  },
  {
   "cell_type": "code",
   "execution_count": 64,
   "metadata": {},
   "outputs": [
    {
     "data": {
      "text/plain": [
       "DecisionTreeClassifier(class_weight=None, criterion='entropy', max_depth=5,\n",
       "                       max_features=None, max_leaf_nodes=None,\n",
       "                       min_impurity_decrease=0.0, min_impurity_split=None,\n",
       "                       min_samples_leaf=1, min_samples_split=2,\n",
       "                       min_weight_fraction_leaf=0.0, presort=False,\n",
       "                       random_state=None, splitter='best')"
      ]
     },
     "execution_count": 64,
     "metadata": {},
     "output_type": "execute_result"
    }
   ],
   "source": [
    "from sklearn.tree import DecisionTreeClassifier\n",
    "SeverityTree = DecisionTreeClassifier(criterion=\"entropy\", max_depth = 5)\n",
    "SeverityTree.fit(X_trainset,y_trainset)"
   ]
  },
  {
   "cell_type": "code",
   "execution_count": 65,
   "metadata": {},
   "outputs": [
    {
     "name": "stdout",
     "output_type": "stream",
     "text": [
      "[1 1 1 1 1]\n",
      "188393    1\n",
      "191329    1\n",
      "52824     1\n",
      "42414     2\n",
      "114021    1\n",
      "Name: SEVERITYCODE, dtype: int64\n"
     ]
    }
   ],
   "source": [
    "predTree = SeverityTree.predict(X_testset)\n",
    "print (predTree [0:5])\n",
    "print (y_testset [0:5])"
   ]
  },
  {
   "cell_type": "code",
   "execution_count": 66,
   "metadata": {},
   "outputs": [
    {
     "name": "stdout",
     "output_type": "stream",
     "text": [
      "DecisionTrees's Accuracy:  0.7498373343378651\n"
     ]
    }
   ],
   "source": [
    "from sklearn import metrics\n",
    "import matplotlib.pyplot as plt\n",
    "print(\"DecisionTrees's Accuracy: \", metrics.accuracy_score(y_testset, predTree))"
   ]
  },
  {
   "cell_type": "code",
   "execution_count": null,
   "metadata": {},
   "outputs": [],
   "source": []
  },
  {
   "cell_type": "code",
   "execution_count": null,
   "metadata": {
    "scrolled": true
   },
   "outputs": [],
   "source": []
  },
  {
   "cell_type": "code",
   "execution_count": null,
   "metadata": {},
   "outputs": [],
   "source": []
  },
  {
   "cell_type": "code",
   "execution_count": null,
   "metadata": {},
   "outputs": [],
   "source": []
  }
 ],
 "metadata": {
  "kernelspec": {
   "display_name": "Python 3",
   "language": "python",
   "name": "python3"
  },
  "language_info": {
   "codemirror_mode": {
    "name": "ipython",
    "version": 3
   },
   "file_extension": ".py",
   "mimetype": "text/x-python",
   "name": "python",
   "nbconvert_exporter": "python",
   "pygments_lexer": "ipython3",
   "version": "3.7.4"
  }
 },
 "nbformat": 4,
 "nbformat_minor": 2
}
